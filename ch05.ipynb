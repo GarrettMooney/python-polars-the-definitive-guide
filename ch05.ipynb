{
 "cells": [
  {
   "cell_type": "markdown",
   "id": "0",
   "metadata": {},
   "source": [
    "# Chapter 5: Eager and Lazy APIs"
   ]
  },
  {
   "cell_type": "code",
   "execution_count": null,
   "id": "1",
   "metadata": {},
   "outputs": [],
   "source": [
    "import polars as pl\n",
    "pl.__version__  # The book is built with Polars version 1.20.0"
   ]
  },
  {
   "cell_type": "markdown",
   "id": "2",
   "metadata": {},
   "source": [
    "## Eager API: DataFrame"
   ]
  },
  {
   "cell_type": "code",
   "execution_count": null,
   "id": "3",
   "metadata": {},
   "outputs": [],
   "source": [
    "%%time\n",
    "trips = pl.read_parquet(\"data/taxi/yellow_tripdata_*.parquet\")  \n",
    "sum_per_vendor = trips.group_by(\"VendorID\").sum()  \n",
    "\n",
    "income_per_distance_per_vendor = sum_per_vendor.select(\n",
    "    \"VendorID\",\n",
    "    income_per_distance=pl.col(\"total_amount\") / pl.col(\"trip_distance\"),\n",
    ")\n",
    "\n",
    "top_three = income_per_distance_per_vendor.sort(  \n",
    "    by=\"income_per_distance\", descending=True\n",
    ").head(3)\n",
    "\n",
    "top_three"
   ]
  },
  {
   "cell_type": "markdown",
   "id": "4",
   "metadata": {},
   "source": [
    "## Lazy API: LazyFrame"
   ]
  },
  {
   "cell_type": "code",
   "execution_count": null,
   "id": "5",
   "metadata": {},
   "outputs": [],
   "source": [
    "# This raises a SchemaError:\n",
    "# names_lf = pl.LazyFrame({\"name\": [\"Alice\", \"Bob\", \"Charlie\"], \"age\": [25, 30, 35]})\n",
    "\n",
    "# erroneous_query = names_lf.with_columns(\n",
    "#     sliced_age=pl.col(\"age\").str.slice(1, 3)\n",
    "# )\n",
    "\n",
    "# result_df = erroneous_query.collect()"
   ]
  },
  {
   "cell_type": "markdown",
   "id": "6",
   "metadata": {},
   "source": [
    "## Performance Differences"
   ]
  },
  {
   "cell_type": "code",
   "execution_count": null,
   "id": "7",
   "metadata": {},
   "outputs": [],
   "source": [
    "%%time\n",
    "trips = pl.scan_parquet(\"data/taxi/yellow_tripdata_*.parquet\")\n",
    "sum_per_vendor = trips.group_by(\"VendorID\").sum()\n",
    "\n",
    "income_per_distance_per_vendor = sum_per_vendor.select(\n",
    "    \"VendorID\",\n",
    "    income_per_distance=pl.col(\"total_amount\") / pl.col(\"trip_distance\"),\n",
    ")\n",
    "\n",
    "top_three = income_per_distance_per_vendor.sort(\n",
    "    by=\"income_per_distance\", descending=True\n",
    ").head(3)\n",
    "\n",
    "top_three.collect()"
   ]
  },
  {
   "cell_type": "code",
   "execution_count": null,
   "id": "8",
   "metadata": {},
   "outputs": [],
   "source": [
    "lf = pl.LazyFrame({\"col1\": [1, 2, 3], \"col2\": [4, 5, 6]})\n",
    "\n",
    "# ... Some heavy computation ...\n",
    "\n",
    "print(lf.collect())\n",
    "\n",
    "print(lf.with_columns(pl.col(\"col1\") + 1).collect())  "
   ]
  },
  {
   "cell_type": "markdown",
   "id": "9",
   "metadata": {},
   "source": [
    "## Functionality Differences"
   ]
  },
  {
   "cell_type": "markdown",
   "id": "10",
   "metadata": {},
   "source": [
    "### Attributes"
   ]
  },
  {
   "cell_type": "markdown",
   "id": "11",
   "metadata": {},
   "source": [
    "### Aggregation Methods"
   ]
  },
  {
   "cell_type": "markdown",
   "id": "12",
   "metadata": {},
   "source": [
    "### Computation Methods"
   ]
  },
  {
   "cell_type": "markdown",
   "id": "13",
   "metadata": {},
   "source": [
    "### Descriptive Methods"
   ]
  },
  {
   "cell_type": "markdown",
   "id": "14",
   "metadata": {},
   "source": [
    "### GroupBy Methods"
   ]
  },
  {
   "cell_type": "markdown",
   "id": "15",
   "metadata": {},
   "source": [
    "### Exporting Methods"
   ]
  },
  {
   "cell_type": "markdown",
   "id": "16",
   "metadata": {},
   "source": [
    "### Manipulation and Selection Methods"
   ]
  },
  {
   "cell_type": "markdown",
   "id": "17",
   "metadata": {},
   "source": [
    "### Miscellaneous Methods"
   ]
  },
  {
   "cell_type": "markdown",
   "id": "18",
   "metadata": {},
   "source": [
    "## Tips and Tricks"
   ]
  },
  {
   "cell_type": "markdown",
   "id": "19",
   "metadata": {},
   "source": [
    "### Going from LazyFrame to DataFrame and Vice Versa"
   ]
  },
  {
   "cell_type": "markdown",
   "id": "20",
   "metadata": {},
   "source": [
    "### Joining a DataFrame with a LazyFrame"
   ]
  },
  {
   "cell_type": "code",
   "execution_count": null,
   "id": "21",
   "metadata": {},
   "outputs": [],
   "source": [
    "# This raises a TypeError:\n",
    "# big_sales_data = pl.LazyFrame(\n",
    "#     {\"sale_id\": [101, 102, 103], \"amount\": [250, 150, 300]}\n",
    "# )\n",
    "#\n",
    "# sales_metadata = pl.DataFrame(\n",
    "#     {\"sale_id\": [101, 102, 103], \"category\": [\"A\", \"B\", \"A\"]}\n",
    "# )\n",
    "#\n",
    "# big_sales_data.join(sales_metadata, on=\"sale_id\").collect()"
   ]
  },
  {
   "cell_type": "code",
   "execution_count": null,
   "id": "22",
   "metadata": {},
   "outputs": [],
   "source": [
    "big_sales_data = pl.LazyFrame(\n",
    "    {\"sale_id\": [101, 102, 103], \"amount\": [250, 150, 300]}\n",
    ")\n",
    "\n",
    "sales_metadata = pl.DataFrame(\n",
    "    {\"sale_id\": [101, 102, 103], \"category\": [\"A\", \"B\", \"A\"]}\n",
    ")\n",
    "\n",
    "big_sales_data.join(sales_metadata.lazy(), on=\"sale_id\").collect()"
   ]
  },
  {
   "cell_type": "markdown",
   "id": "23",
   "metadata": {},
   "source": [
    "### Caching Intermittent Results"
   ]
  },
  {
   "cell_type": "code",
   "execution_count": null,
   "id": "24",
   "metadata": {},
   "outputs": [],
   "source": [
    "lf = pl.LazyFrame({\"col1\": [1, 2, 3], \"col2\": [4, 5, 6]})\n",
    "\n",
    "# ... Some heavy computation ...\n",
    "\n",
    "lf = lf.collect().lazy()  \n",
    "print(lf.collect())\n",
    "\n",
    "print(lf.with_columns(pl.col(\"col1\") + 1).collect())  "
   ]
  },
  {
   "cell_type": "markdown",
   "id": "25",
   "metadata": {},
   "source": [
    "## Takeaways"
   ]
  }
 ],
 "metadata": {},
 "nbformat": 4,
 "nbformat_minor": 5
}
