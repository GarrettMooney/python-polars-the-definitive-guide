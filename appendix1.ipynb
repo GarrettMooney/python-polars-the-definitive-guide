{
 "cells": [
  {
   "cell_type": "markdown",
   "id": "0",
   "metadata": {},
   "source": [
    "# Accelerating Polars with the GPU"
   ]
  },
  {
   "cell_type": "code",
   "execution_count": null,
   "id": "1",
   "metadata": {},
   "outputs": [],
   "source": [
    "import polars as pl\n",
    "pl.__version__  # The book is built with Polars version 1.20.0"
   ]
  },
  {
   "cell_type": "markdown",
   "id": "2",
   "metadata": {},
   "source": [
    "## NVIDIA RAPIDS"
   ]
  },
  {
   "cell_type": "markdown",
   "id": "3",
   "metadata": {},
   "source": [
    "## Installing the GPU Engine"
   ]
  },
  {
   "cell_type": "markdown",
   "id": "4",
   "metadata": {},
   "source": [
    "### Step 1: Install WSL2 on Windows"
   ]
  },
  {
   "cell_type": "markdown",
   "id": "5",
   "metadata": {},
   "source": [
    "### Step 2: Install Ubuntu Linux on WSL2"
   ]
  },
  {
   "cell_type": "markdown",
   "id": "6",
   "metadata": {},
   "source": [
    "### Step 3: Install Prerequisite Ubuntu Linux Packages"
   ]
  },
  {
   "cell_type": "markdown",
   "id": "7",
   "metadata": {},
   "source": [
    "### Step 4: Install the CUDA Toolkit"
   ]
  },
  {
   "cell_type": "markdown",
   "id": "8",
   "metadata": {},
   "source": [
    "### Step 5: Install Python Dependencies"
   ]
  },
  {
   "cell_type": "markdown",
   "id": "9",
   "metadata": {},
   "source": [
    "### Step 6: Test Your Installation"
   ]
  },
  {
   "cell_type": "code",
   "execution_count": null,
   "id": "10",
   "metadata": {},
   "outputs": [],
   "source": [
    "import polars as pl\n",
    "\n",
    "pl.LazyFrame({\"x\": [1, 2, 3]}).collect(engine=pl.GPUEngine(raise_on_fail=True))"
   ]
  },
  {
   "cell_type": "markdown",
   "id": "11",
   "metadata": {},
   "source": [
    "## Using the Polars GPU Engine"
   ]
  },
  {
   "cell_type": "markdown",
   "id": "12",
   "metadata": {},
   "source": [
    "### Configuration"
   ]
  },
  {
   "cell_type": "markdown",
   "id": "13",
   "metadata": {},
   "source": [
    "### Unsupported Features"
   ]
  },
  {
   "cell_type": "markdown",
   "id": "14",
   "metadata": {},
   "source": [
    "## Benchmarking the Polars GPU Engine"
   ]
  },
  {
   "cell_type": "markdown",
   "id": "15",
   "metadata": {},
   "source": [
    "### Solutions"
   ]
  },
  {
   "cell_type": "markdown",
   "id": "16",
   "metadata": {},
   "source": [
    "### Queries and Data"
   ]
  },
  {
   "cell_type": "code",
   "execution_count": null,
   "id": "17",
   "metadata": {},
   "outputs": [],
   "source": [
    "%%time\n",
    "lineitem = pl.scan_parquet(\"data/benchmark/lineitem.parquet\")  \n",
    "supplier = pl.scan_parquet(\"data/benchmark/supplier.parquet\")\n",
    "\n",
    "var1 = pl.date(1996, 1, 1)\n",
    "var2 = pl.date(1996, 4, 1)\n",
    "\n",
    "revenue = (\n",
    "    lineitem.filter(pl.col(\"l_shipdate\").is_between(var1, var2, closed=\"left\"))\n",
    "    .group_by(\"l_suppkey\")\n",
    "    .agg(\n",
    "        (pl.col(\"l_extendedprice\") * (1 - pl.col(\"l_discount\")))\n",
    "        .sum()\n",
    "        .alias(\"total_revenue\")\n",
    "    )\n",
    "    .select(pl.col(\"l_suppkey\").alias(\"supplier_no\"), pl.col(\"total_revenue\"))\n",
    ")\n",
    "\n",
    "query_15 = (\n",
    "    supplier.join(revenue, left_on=\"s_suppkey\", right_on=\"supplier_no\")\n",
    "    .filter(pl.col(\"total_revenue\") == pl.col(\"total_revenue\").max())\n",
    "    .with_columns(pl.col(\"total_revenue\").round(2))\n",
    "    .select(\"s_suppkey\", \"s_name\", \"s_address\", \"s_phone\", \"total_revenue\")\n",
    "    .sort(\"s_suppkey\")\n",
    ")\n",
    "\n",
    "query_15.collect(engine=\"cpu\")  "
   ]
  },
  {
   "cell_type": "markdown",
   "id": "18",
   "metadata": {},
   "source": [
    "### Method"
   ]
  },
  {
   "cell_type": "markdown",
   "id": "19",
   "metadata": {},
   "source": [
    "### Results and Discussion"
   ]
  },
  {
   "cell_type": "markdown",
   "id": "20",
   "metadata": {},
   "source": [
    "#### Polars GPU engine versus CPU engine"
   ]
  },
  {
   "cell_type": "markdown",
   "id": "21",
   "metadata": {},
   "source": [
    "#### Performance on different hardware"
   ]
  },
  {
   "cell_type": "markdown",
   "id": "22",
   "metadata": {},
   "source": [
    "#### Polars GPU engine versus other packages"
   ]
  },
  {
   "cell_type": "markdown",
   "id": "23",
   "metadata": {},
   "source": [
    "#### The effect of the Polars optimizer"
   ]
  },
  {
   "cell_type": "markdown",
   "id": "24",
   "metadata": {},
   "source": [
    "### Conclusion"
   ]
  },
  {
   "cell_type": "markdown",
   "id": "25",
   "metadata": {},
   "source": [
    "## The Future of Polars on the GPU"
   ]
  },
  {
   "cell_type": "markdown",
   "id": "26",
   "metadata": {},
   "source": [
    "## Takeaways"
   ]
  }
 ],
 "metadata": {},
 "nbformat": 4,
 "nbformat_minor": 5
}
